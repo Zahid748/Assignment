{
  "nbformat": 4,
  "nbformat_minor": 0,
  "metadata": {
    "colab": {
      "provenance": []
    },
    "kernelspec": {
      "name": "python3",
      "display_name": "Python 3"
    },
    "language_info": {
      "name": "python"
    }
  },
  "cells": [
    {
      "cell_type": "markdown",
      "source": [
        "#Assignment-2"
      ],
      "metadata": {
        "id": "N-lgbxzl_92x"
      }
    },
    {
      "cell_type": "markdown",
      "source": [
        "•\tProblem: You have a list of numbers and need to filter out only the even numbers using a lambda function. Solution: Use the filter() function with a lambda function to filter the list of numbers for even values."
      ],
      "metadata": {
        "id": "tox6I8r3AYA0"
      }
    },
    {
      "cell_type": "code",
      "source": [
        "# Define the list of numbers\n",
        "numbers = [1, 2, 3, 4, 5, 6, 7, 8, 9, 10]\n",
        "\n",
        "# Use filter() with a lambda function to filter out only even numbers\n",
        "even_numbers = filter(lambda x: x % 2 == 0, numbers)\n",
        "\n",
        "# Convert the filter object to a list to see the result\n",
        "even_numbers_list = list(even_numbers)\n",
        "\n",
        "print(even_numbers_list)"
      ],
      "metadata": {
        "colab": {
          "base_uri": "https://localhost:8080/"
        },
        "id": "e3lRziRPADkK",
        "outputId": "d1db87c2-0718-4806-9faa-8319bb9b9369"
      },
      "execution_count": 3,
      "outputs": [
        {
          "output_type": "stream",
          "name": "stdout",
          "text": [
            "[2, 4, 6, 8, 10]\n"
          ]
        }
      ]
    },
    {
      "cell_type": "markdown",
      "source": [
        "•\tProblem: You have a list of strings representing numbers, and you need to convert each string to an integer using a lambda function. Solution: Use the map() function with a lambda function to convert each string element in the list to an integer."
      ],
      "metadata": {
        "id": "3L9IKiIs_8XN"
      }
    },
    {
      "cell_type": "code",
      "execution_count": 7,
      "metadata": {
        "colab": {
          "base_uri": "https://localhost:8080/"
        },
        "id": "jbxi90nL_l8x",
        "outputId": "ca235d42-dc25-4872-9b0d-175fa34bb1f8"
      },
      "outputs": [
        {
          "output_type": "stream",
          "name": "stdout",
          "text": [
            "[9, 22, 30, 40, 55, 60, 2]\n"
          ]
        }
      ],
      "source": [
        "# Define the list of strings\n",
        "string_numbers = [\"9\", \"22\", \"30\", \"40\", \"55\", \"60\", \"2\"]\n",
        "\n",
        "# Use map() with a lambda function to convert each string to an integer\n",
        "integer_numbers = map(lambda x: int(x), string_numbers)\n",
        "\n",
        "# Convert the map object to a list to see the result\n",
        "integer_numbers_list = list(integer_numbers)\n",
        "\n",
        "print(integer_numbers_list)\n"
      ]
    },
    {
      "cell_type": "markdown",
      "source": [
        "•\tProblem: You have a list of dictionaries containing student information, and you need to sort the list based on the 'age' key using a lambda function. Solution: Use the sorted() function with a lambda function as the key parameter to sort the list of dictionaries based on the 'age' key."
      ],
      "metadata": {
        "id": "3LLd5jYcAh5i"
      }
    },
    {
      "cell_type": "code",
      "source": [
        "# List of dictionaries\n",
        "students = [\n",
        "    {'name': 'Maruf', 'age': 29},\n",
        "    {'name': 'Salam', 'age': 19},\n",
        "    {'name': 'Karim', 'age': 21},\n",
        "    {'name': 'Javed', 'age': 35},\n",
        "    {'name': 'Naim', 'age': 30}\n",
        "]\n",
        "\n",
        "sorted_students = sorted(students, key=lambda student: student['age'])\n",
        "# Print the sorted list\n",
        "print(sorted_students)"
      ],
      "metadata": {
        "colab": {
          "base_uri": "https://localhost:8080/"
        },
        "id": "s4gdHOfVAks7",
        "outputId": "879b75e2-9fac-4c59-ef64-899689a84fa0"
      },
      "execution_count": 9,
      "outputs": [
        {
          "output_type": "stream",
          "name": "stdout",
          "text": [
            "[{'name': 'Salam', 'age': 19}, {'name': 'Karim', 'age': 21}, {'name': 'Maruf', 'age': 29}, {'name': 'Naim', 'age': 30}, {'name': 'Javed', 'age': 35}]\n"
          ]
        }
      ]
    },
    {
      "cell_type": "markdown",
      "source": [
        "•\tProblem: You have a list of numbers and need to create a new list containing squares of only the positive numbers using a lambda function. Solution: Use the map() function with a lambda function that squares each number if it is positive, and then filter out the negative results using the filter() function."
      ],
      "metadata": {
        "id": "gCZ-Y0wsB3xG"
      }
    },
    {
      "cell_type": "code",
      "source": [
        "# Define the list of numbers\n",
        "numbers = [-3, -6, 0, 9, 11, 10, -7, 4]\n",
        "\n",
        "# Step 1: Filter out only the positive numbers\n",
        "positive_numbers = filter(lambda x: x > 0, numbers)\n",
        "\n",
        "# Step 2: Square each positive number\n",
        "squared_positives = map(lambda x: x ** 2, positive_numbers)\n",
        "\n",
        "# Convert the map object to a list to see the result\n",
        "squared_positives_list = list(squared_positives)\n",
        "\n",
        "print(squared_positives_list)"
      ],
      "metadata": {
        "colab": {
          "base_uri": "https://localhost:8080/"
        },
        "id": "H2SI7V59B4-q",
        "outputId": "aaea2d13-fc77-491b-fe72-3cefc0965617"
      },
      "execution_count": 13,
      "outputs": [
        {
          "output_type": "stream",
          "name": "stdout",
          "text": [
            "[81, 121, 100, 16]\n"
          ]
        }
      ]
    },
    {
      "cell_type": "markdown",
      "source": [
        "•\tProblem: You have a list of tuples representing (student, score), and you need to find the student with the highest score using a lambda function. Solution: Use the max() function with a lambda function as the key parameter to find the tuple with the highest score in the list."
      ],
      "metadata": {
        "id": "ap7-ayI3DLxE"
      }
    },
    {
      "cell_type": "code",
      "source": [
        "# List of tuples (student, score)\n",
        "students_scores = [('Aayat', 85), ('Maruf', 92), ('Karim', 88)]\n",
        "\n",
        "top_student = max(students_scores, key=lambda x: x[1])\n",
        "\n",
        "print(top_student)"
      ],
      "metadata": {
        "colab": {
          "base_uri": "https://localhost:8080/"
        },
        "id": "jaGfKvg0DMsy",
        "outputId": "7b43c7bc-4062-4824-f5df-baa2ce2e0748"
      },
      "execution_count": 15,
      "outputs": [
        {
          "output_type": "stream",
          "name": "stdout",
          "text": [
            "('Maruf', 92)\n"
          ]
        }
      ]
    }
  ]
}